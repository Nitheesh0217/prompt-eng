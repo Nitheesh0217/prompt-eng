{
 "cells": [
  {
   "cell_type": "markdown",
   "metadata": {},
   "source": [
    "\n",
    "\n"
   ]
  },
  {
   "cell_type": "markdown",
   "metadata": {},
   "source": [
    "# Zero-Shot Prompting\n",
    "\n",
    "Zero-shot prompting refers to a technique in prompt engineering where you provide a model with a task without any prior examples. The model is expected to understand and generate a response or complete the task purely based on the given instruction.\n",
    "\n",
    "In other words, the model is given \"zero\" prior training examples or demonstrations in the prompt and relies on its pre-trained knowledge to infer what is needed.\n",
    "\n",
    "## References:\n",
    "* [Wei et al. (2022)](https://arxiv.org/pdf/2109.01652.pdf): demonstrate how instruction tuning improves zero-shot learning "
   ]
  },
  {
   "cell_type": "markdown",
   "metadata": {},
   "source": [
    "## Running this code on MyBind.org\n",
    "\n",
    "Note: remember that you will need to **adjust CONFIG** with **proper URL and API_KEY**!\n",
    "\n",
    "[![Binder](https://mybinder.org/badge_logo.svg)](https://mybinder.org/v2/gh/GenILab-FAU/prompt-eng/HEAD?urlpath=%2Fdoc%2Ftree%2Fprompt-eng%2Fzero_shot.ipynb)\n",
    "\n"
   ]
  },
  {
   "cell_type": "code",
   "execution_count": null,
   "metadata": {},
   "outputs": [
    {
     "name": "stdout",
     "output_type": "stream",
     "text": [
      "Requirement already satisfied: requests in c:\\users\\abhir\\appdata\\local\\programs\\python\\python310\\lib\\site-packages (2.32.3)\n",
      "Requirement already satisfied: charset-normalizer<4,>=2 in c:\\users\\abhir\\appdata\\local\\programs\\python\\python310\\lib\\site-packages (from requests) (3.4.1)\n",
      "Requirement already satisfied: idna<4,>=2.5 in c:\\users\\abhir\\appdata\\local\\programs\\python\\python310\\lib\\site-packages (from requests) (3.10)\n",
      "Requirement already satisfied: urllib3<3,>=1.21.1 in c:\\users\\abhir\\appdata\\local\\programs\\python\\python310\\lib\\site-packages (from requests) (2.3.0)\n",
      "Requirement already satisfied: certifi>=2017.4.17 in c:\\users\\abhir\\appdata\\local\\programs\\python\\python310\\lib\\site-packages (from requests) (2025.1.31)\n"
     ]
    },
    {
     "name": "stderr",
     "output_type": "stream",
     "text": [
      "\n",
      "[notice] A new release of pip is available: 25.0 -> 25.0.1\n",
      "[notice] To update, run: python.exe -m pip install --upgrade pip\n"
     ]
    },
    {
     "data": {
      "text/plain": [
       "{'status': 'ok', 'restart': True}"
      ]
     },
     "execution_count": 8,
     "metadata": {},
     "output_type": "execute_result"
    },
    {
     "ename": "",
     "evalue": "",
     "output_type": "error",
     "traceback": [
      "\u001b[1;31mThe Kernel crashed while executing code in the current cell or a previous cell. \n",
      "\u001b[1;31mPlease review the code in the cell(s) to identify a possible cause of the failure. \n",
      "\u001b[1;31mClick <a href='https://aka.ms/vscodeJupyterKernelCrash'>here</a> for more info. \n",
      "\u001b[1;31mView Jupyter <a href='command:jupyter.viewOutput'>log</a> for further details."
     ]
    }
   ],
   "source": [
    "############################################################\n",
    "## Install required packages\n",
    "############################################################\n",
    "\n",
    "!pip install requests\n",
    "\n",
    "# Restart the kernel to ensure the installation takes effect\n",
    "import IPython\n",
    "IPython.Application.instance().kernel.do_shutdown(True)\n"
   ]
  },
  {
   "cell_type": "code",
   "execution_count": 2,
   "metadata": {},
   "outputs": [
    {
     "ename": "ModuleNotFoundError",
     "evalue": "No module named 'requests'",
     "output_type": "error",
     "traceback": [
      "\u001b[1;31m---------------------------------------------------------------------------\u001b[0m",
      "\u001b[1;31mModuleNotFoundError\u001b[0m                       Traceback (most recent call last)",
      "Cell \u001b[1;32mIn[2], line 5\u001b[0m\n\u001b[0;32m      1\u001b[0m \u001b[38;5;66;03m############################################################\u001b[39;00m\n\u001b[0;32m      2\u001b[0m \u001b[38;5;66;03m## ZERO-SHOT PROMPT: PROJECT OVERVIEW\u001b[39;00m\n\u001b[0;32m      3\u001b[0m \u001b[38;5;66;03m############################################################\u001b[39;00m\n\u001b[1;32m----> 5\u001b[0m \u001b[38;5;28;01mfrom\u001b[39;00m\u001b[38;5;250m \u001b[39m\u001b[38;5;21;01m_pipeline\u001b[39;00m\u001b[38;5;250m \u001b[39m\u001b[38;5;28;01mimport\u001b[39;00m create_payload, model_req\n\u001b[0;32m      7\u001b[0m \u001b[38;5;66;03m# 1) Define the prompt (no examples, purely zero-shot)\u001b[39;00m\n\u001b[0;32m      8\u001b[0m ZERO_SHOT_PROMPT \u001b[38;5;241m=\u001b[39m \u001b[38;5;124m\"\"\"\u001b[39m\u001b[38;5;124mYou are an AI that generates project reports.\u001b[39m\n\u001b[0;32m      9\u001b[0m \u001b[38;5;124mPlease create the \u001b[39m\u001b[38;5;124m\"\u001b[39m\u001b[38;5;124mProject Overview\u001b[39m\u001b[38;5;124m\"\u001b[39m\u001b[38;5;124m section covering:\u001b[39m\n\u001b[0;32m     10\u001b[0m \u001b[38;5;124m- Title\u001b[39m\n\u001b[1;32m   (...)\u001b[0m\n\u001b[0;32m     15\u001b[0m \u001b[38;5;124mFormat it in clear paragraphs, and use Markdown headings.\u001b[39m\n\u001b[0;32m     16\u001b[0m \u001b[38;5;124m\"\"\"\u001b[39m\n",
      "File \u001b[1;32mc:\\Nitheesh\\projects\\prompt-eng\\prompt-eng\\_pipeline.py:27\u001b[0m\n\u001b[0;32m      1\u001b[0m \u001b[38;5;66;03m##\u001b[39;00m\n\u001b[0;32m      2\u001b[0m \u001b[38;5;66;03m## Prompt Engineering Lab\u001b[39;00m\n\u001b[0;32m      3\u001b[0m \u001b[38;5;66;03m## Platform for Education and Experimentation with Prompt NEngineering in Generative Intelligent Systems\u001b[39;00m\n\u001b[1;32m   (...)\u001b[0m\n\u001b[0;32m     23\u001b[0m \u001b[38;5;66;03m# Generative AI has been used extensively while developing this package.\u001b[39;00m\n\u001b[0;32m     24\u001b[0m \u001b[38;5;66;03m# \u001b[39;00m\n\u001b[1;32m---> 27\u001b[0m \u001b[38;5;28;01mimport\u001b[39;00m\u001b[38;5;250m \u001b[39m\u001b[38;5;21;01mrequests\u001b[39;00m\n\u001b[0;32m     28\u001b[0m \u001b[38;5;28;01mimport\u001b[39;00m\u001b[38;5;250m \u001b[39m\u001b[38;5;21;01mjson\u001b[39;00m\n\u001b[0;32m     29\u001b[0m \u001b[38;5;28;01mimport\u001b[39;00m\u001b[38;5;250m \u001b[39m\u001b[38;5;21;01mos\u001b[39;00m\n",
      "\u001b[1;31mModuleNotFoundError\u001b[0m: No module named 'requests'"
     ]
    }
   ],
   "source": [
    "############################################################\n",
    "## ZERO-SHOT PROMPT: PROJECT OVERVIEW\n",
    "############################################################\n",
    "\n",
    "from _pipeline import create_payload, model_req\n",
    "\n",
    "# 1) Define the prompt (no examples, purely zero-shot)\n",
    "ZERO_SHOT_PROMPT = \"\"\"You are an AI that generates project reports.\n",
    "Please create the \"Project Overview\" section covering:\n",
    "- Title\n",
    "- Goal\n",
    "- Problem Statement\n",
    "- Key Objectives\n",
    "- Scope\n",
    "Format it in clear paragraphs, and use Markdown headings.\n",
    "\"\"\"\n",
    "\n",
    "# 2) Prepare the payload (choose your model & parameters)\n",
    "payload = create_payload(\n",
    "    target=\"open-webui\",    # or whichever backend you're using\n",
    "    model=\"phi4:latest\",    # example model; adjust as needed\n",
    "    prompt=ZERO_SHOT_PROMPT,\n",
    "    temperature=1.0,        # higher temp => more creative text\n",
    "    num_ctx=100,\n",
    "    num_predict=200         # enough tokens for a full overview\n",
    ")\n",
    "\n",
    "# 3) Send request and capture the response\n",
    "time_taken, response = model_req(payload=payload)\n",
    "\n",
    "# 4) Display the raw output and timing\n",
    "print(\"===== ZERO-SHOT OUTPUT =====\")\n",
    "print(response)\n",
    "if time_taken:\n",
    "    print(f\"\\nTime taken: {time_taken}s\")\n"
   ]
  },
  {
   "cell_type": "markdown",
   "metadata": {},
   "source": [
    "---\n",
    "\n",
    "## How to improve it?\n",
    "\n",
    "* **Use Clear and Concise Instructions**: Be specific about the task and desired format.\n",
    "    * Bad Prompt: “Summarize this.”\n",
    "    * Good Prompt: “Summarize this paragraph in one sentence.”\n",
    "* **Add Context**: Providing background can help the model interpret ambiguous prompts better.\n",
    "* **Specify Output Format**: If a particular structure is needed, describe it in the instruction."
   ]
  }
 ],
 "metadata": {
  "kernelspec": {
   "display_name": ".venv",
   "language": "python",
   "name": "python3"
  },
  "language_info": {
   "codemirror_mode": {
    "name": "ipython",
    "version": 3
   },
   "file_extension": ".py",
   "mimetype": "text/x-python",
   "name": "python",
   "nbconvert_exporter": "python",
   "pygments_lexer": "ipython3",
   "version": "3.10.0"
  }
 },
 "nbformat": 4,
 "nbformat_minor": 2
}
