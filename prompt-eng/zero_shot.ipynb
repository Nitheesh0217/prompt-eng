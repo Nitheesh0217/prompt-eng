{
 "cells": [
  {
   "cell_type": "markdown",
   "metadata": {},
   "source": [
    "\n",
    "\n"
   ]
  },
  {
   "cell_type": "markdown",
   "metadata": {},
   "source": [
    "# Zero-Shot Prompting\n",
    "\n",
    "Zero-shot prompting refers to a technique in prompt engineering where you provide a model with a task without any prior examples. The model is expected to understand and generate a response or complete the task purely based on the given instruction.\n",
    "\n",
    "In other words, the model is given \"zero\" prior training examples or demonstrations in the prompt and relies on its pre-trained knowledge to infer what is needed.\n",
    "\n",
    "## References:\n",
    "* [Wei et al. (2022)](https://arxiv.org/pdf/2109.01652.pdf): demonstrate how instruction tuning improves zero-shot learning "
   ]
  },
  {
   "cell_type": "markdown",
   "metadata": {},
   "source": [
    "## Running this code on MyBind.org\n",
    "\n",
    "Note: remember that you will need to **adjust CONFIG** with **proper URL and API_KEY**!\n",
    "\n",
    "[![Binder](https://mybinder.org/badge_logo.svg)](https://mybinder.org/v2/gh/GenILab-FAU/prompt-eng/HEAD?urlpath=%2Fdoc%2Ftree%2Fprompt-eng%2Fzero_shot.ipynb)\n",
    "\n"
   ]
  },
  {
   "cell_type": "code",
   "execution_count": 10,
   "metadata": {},
   "outputs": [
    {
     "name": "stdout",
     "output_type": "stream",
     "text": [
      "Payload: {'model': 'Llama-3.2-3B-Instruct', 'messages': [{'role': 'user', 'content': 'You are an AI that generates project reports.\\nPlease create the \"Project Overview\" section covering:\\n- Title\\n- Goal\\n- Problem Statement\\n- Key Objectives\\n- Scope\\nFormat it in clear paragraphs, and use Markdown headings.\\n'}]}\n",
      "===== ZERO-SHOT OUTPUT =====\n",
      "**Project Overview**\n",
      "=====================\n",
      "\n",
      "### Title\n",
      "\n",
      "**E-commerce Platform Development**\n",
      "\n",
      "### Goal\n",
      "\n",
      "Our goal is to design and develop a modern, user-friendly, and scalable e-commerce platform that enables businesses to create engaging online shopping experiences, process transactions efficiently, and analyze customer behavior effectively.\n",
      "\n",
      "### Problem Statement\n",
      "\n",
      "The existing e-commerce platforms face several challenges, including high transaction fees, limited customization options, poor user experience, and inadequate data security. These issues hinder the growth and success of online businesses, making it difficult for them to compete in the market.\n",
      "\n",
      "### Key Objectives\n",
      "\n",
      "Our project aims to address these challenges by developing an e-commerce platform that offers:\n",
      "\n",
      "* **Flexibility and customization**: Allowing businesses to personalize their online stores and customize their products and services\n",
      "* **User-centric design**: Providing a seamless and engaging user experience, including features such as responsive design, fast loading speeds, and easy navigation\n",
      "* **Security and scalability**: Ensuring the highest level of data security, scalability, and reliability to support growing online businesses\n",
      "* **Integration and compatibility**: Integrating with existing payment gateways, shipping providers, and social media platforms to simplify the checkout process and enhance customer experience\n",
      "\n",
      "### Scope\n",
      "\n",
      "This project will cover the design, development, testing, and deployment of the e-commerce platform. The scope includes:\n",
      "\n",
      "* Development of the platform using modern technologies such as HTML5, CSS3, JavaScript, and server-side programming languages\n",
      "* Integration with payment gateways, shipping providers, and social media platforms\n",
      "* User testing and validation to ensure a smooth user experience\n",
      "* Deployment on a cloud hosting platform to ensure scalability, reliability, and security\n",
      "* Regular maintenance and updates to ensure the platform remains competitive and up-to-date\n",
      "\n",
      "Time taken: 2.793s\n"
     ]
    }
   ],
   "source": [
    "############################################################\n",
    "## ZERO-SHOT PROMPT: PROJECT OVERVIEW\n",
    "############################################################\n",
    "import os\n",
    "\n",
    "os.makedirs(\"data\", exist_ok=True)\n",
    "\n",
    "import csv\n",
    "from datetime import datetime\n",
    "from _pipeline import create_payload, model_req\n",
    "\n",
    "# 1) Define the zero-shot prompt (no examples)\n",
    "ZERO_SHOT_PROMPT = \"\"\"You are an AI that generates project reports.\n",
    "Please create the \"Project Overview\" section covering:\n",
    "- Title\n",
    "- Goal\n",
    "- Problem Statement\n",
    "- Key Objectives\n",
    "- Scope\n",
    "Format it in clear paragraphs, and use Markdown headings.\n",
    "\"\"\"\n",
    "\n",
    "# 2) Prepare the payload (choose model & parameters)\n",
    "payload = create_payload(\n",
    "    target=\"open-webui\",\n",
    "    model=\"Llama-3.2-3B-Instruct\",\n",
    "    prompt=ZERO_SHOT_PROMPT,\n",
    "    temperature=0.9,      # Slightly higher => more creative language\n",
    "    max_tokens=300,       # Adjust if you see truncated output\n",
    "    num_ctx=100,          # Enough context for a short prompt\n",
    "    num_predict=200       # Sufficient tokens for a robust overview\n",
    ")\n",
    "\n",
    "# 3) Send request and capture the response\n",
    "time_taken, zero_shot_response = model_req(payload=payload)\n",
    "\n",
    "# 4) Display the raw output and timing\n",
    "print(\"===== ZERO-SHOT OUTPUT =====\")\n",
    "print(zero_shot_response)\n",
    "if time_taken:\n",
    "    print(f\"\\nTime taken: {time_taken}s\")\n",
    "\n",
    "# 5) (Optional) Log the result for future reference\n",
    "#    This helps if you want to compare with Few-Shot or Chain-of-Thought later.\n",
    "log_entry = [\n",
    "    datetime.now().strftime(\"%Y-%m-%d %H:%M:%S\"),\n",
    "    \"zero_shot\",\n",
    "    \"Llama-3.2-3B-Instruct\",\n",
    "    0.9,\n",
    "    time_taken,\n",
    "    zero_shot_response.replace(\"\\n\", \"\\\\n\")  # escape newlines for CSV\n",
    "]\n",
    "\n",
    "with open(\"data/zero_shot_logs.csv\", \"a\", newline=\"\", encoding=\"utf-8\") as f:\n",
    "    writer = csv.writer(f)\n",
    "    # If it's a brand-new file, you could write a header row here\n",
    "    writer.writerow(log_entry)\n"
   ]
  },
  {
   "cell_type": "markdown",
   "metadata": {},
   "source": [
    "---\n",
    "\n",
    "## How to improve it?\n",
    "\n",
    "* **Use Clear and Concise Instructions**: Be specific about the task and desired format.\n",
    "    * Bad Prompt: “Summarize this.”\n",
    "    * Good Prompt: “Summarize this paragraph in one sentence.”\n",
    "* **Add Context**: Providing background can help the model interpret ambiguous prompts better.\n",
    "* **Specify Output Format**: If a particular structure is needed, describe it in the instruction."
   ]
  }
 ],
 "metadata": {
  "kernelspec": {
   "display_name": "Python 3",
   "language": "python",
   "name": "python3"
  },
  "language_info": {
   "codemirror_mode": {
    "name": "ipython",
    "version": 3
   },
   "file_extension": ".py",
   "mimetype": "text/x-python",
   "name": "python",
   "nbconvert_exporter": "python",
   "pygments_lexer": "ipython3",
   "version": "3.13.1"
  }
 },
 "nbformat": 4,
 "nbformat_minor": 2
}
