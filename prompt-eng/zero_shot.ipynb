{
 "cells": [
  {
   "cell_type": "markdown",
   "metadata": {},
   "source": [
    "\n",
    "\n"
   ]
  },
  {
   "cell_type": "markdown",
   "metadata": {},
   "source": [
    "# Zero-Shot Prompting\n",
    "\n",
    "Zero-shot prompting refers to a technique in prompt engineering where you provide a model with a task without any prior examples. The model is expected to understand and generate a response or complete the task purely based on the given instruction.\n",
    "\n",
    "In other words, the model is given \"zero\" prior training examples or demonstrations in the prompt and relies on its pre-trained knowledge to infer what is needed.\n",
    "\n",
    "## References:\n",
    "* [Wei et al. (2022)](https://arxiv.org/pdf/2109.01652.pdf): demonstrate how instruction tuning improves zero-shot learning "
   ]
  },
  {
   "cell_type": "markdown",
   "metadata": {},
   "source": [
    "## Running this code on MyBind.org\n",
    "\n",
    "Note: remember that you will need to **adjust CONFIG** with **proper URL and API_KEY**!\n",
    "\n",
    "[![Binder](https://mybinder.org/badge_logo.svg)](https://mybinder.org/v2/gh/GenILab-FAU/prompt-eng/HEAD?urlpath=%2Fdoc%2Ftree%2Fprompt-eng%2Fzero_shot.ipynb)\n",
    "\n"
   ]
  },
  {
   "cell_type": "code",
   "execution_count": 5,
   "metadata": {},
   "outputs": [
    {
     "name": "stdout",
     "output_type": "stream",
     "text": [
      "Payload: {'model': 'Llama-3.2-3B-Instruct', 'messages': [{'role': 'user', 'content': 'You are an AI that generates project reports.\\nPlease create the \"Project Overview\" section covering:\\n- Title\\n- Goal\\n- Problem Statement\\n- Key Objectives\\n- Scope\\nFormat it in clear paragraphs, and use Markdown headings.\\n'}]}\n",
      "===== ZERO-SHOT OUTPUT =====\n",
      "**Project Overview**\n",
      "========================\n",
      "\n",
      "### **Project Title**\n",
      "The primary objective of this project is to develop an innovative system for real-time data analytics and decision-making. This project, titled \"Data Insights Platform,\" aims to address the challenges faced by organizations in extracting valuable insights from their data.\n",
      "\n",
      "### **Goal**\n",
      "The main goal of the Data Insights Platform is to provide a proactive and collaborative data analysis solution that enables organizations to make informed decisions. This project seeks to design and implement a comprehensive platform that can seamlessly integrate data from various sources, offering advanced features for data exploration, visualization, and predictive analytics.\n",
      "\n",
      "### **Problem Statement**\n",
      "Traditional data analytics systems often suffer from limitations, including manual data manipulation, lengthy processing times, and limited data visibility. This can lead to missed opportunities for improvement and impede informed decision-making. The lack of a centralized platform for data integration and analysis has resulted in scattered data, disparate insights, and extended reporting periods.\n",
      "\n",
      "### **Key Objectives**\n",
      "The primary objectives of the Data Insights Platform are:\n",
      "\n",
      "*   Design and develop a cloud-based data analytics platform that integrates data sources and supports advanced analytics capabilities.\n",
      "*   Ensure seamless data visualization and collaboration features to enable effective communication and decision-making.\n",
      "*   Implement automated data processing and machine learning functions to enhance prediction models and data forecasting.\n",
      "*   Achieve high performance and scalability to handle large volumes of data from various industries.\n",
      "*   Provide a user-friendly interface that accommodates diverse skill levels and technical requirements.\n",
      "\n",
      "### **Scope**\n",
      "The scope of the Data Insights Platform includes:\n",
      "\n",
      "*   Development of a cloud-based data lake infrastructure to store and process large volumes of data.\n",
      "*   Creating custom-built data analytics applications using Python, SAS, and R programming languages.\n",
      "*   Designing a robust data visualization dashboard that supports data exploration, filtering, and mapping capabilities.\n",
      "*   Integrating team collaboration tools, such as Slack and Microsoft Teams, to facilitate data-driven conversation and workflow.\n",
      "*   Conducting performance monitoring, load testing, and security audits to ensure reliability and compliance.\n",
      "\n",
      "Time taken: 3.216s\n"
     ]
    }
   ],
   "source": [
    "############################################################\n",
    "## ZERO-SHOT PROMPT: PROJECT OVERVIEW\n",
    "############################################################\n",
    "\n",
    "from _pipeline import create_payload, model_req\n",
    "\n",
    "# 1) Define the prompt (no examples, purely zero-shot)\n",
    "ZERO_SHOT_PROMPT = \"\"\"You are an AI that generates project reports.\n",
    "Please create the \"Project Overview\" section covering:\n",
    "- Title\n",
    "- Goal\n",
    "- Problem Statement\n",
    "- Key Objectives\n",
    "- Scope\n",
    "Format it in clear paragraphs, and use Markdown headings.\n",
    "\"\"\"\n",
    "\n",
    "# 2) Prepare the payload (choose your model & parameters)\n",
    "payload = create_payload(\n",
    "    target=\"open-webui\",    \n",
    "    model=\"Llama-3.2-3B-Instruct\",    \n",
    "    prompt=ZERO_SHOT_PROMPT,\n",
    "    temperature=0.9,\n",
    "    max_tokens=300,        \n",
    "    num_ctx=100,\n",
    "    num_predict=200         \n",
    ")\n",
    "\n",
    "# 3) Send request and capture the response\n",
    "time_taken, response = model_req(payload=payload)\n",
    "\n",
    "# 4) Display the raw output and timing\n",
    "print(\"===== ZERO-SHOT OUTPUT =====\")\n",
    "print(response)\n",
    "if time_taken:\n",
    "    print(f\"\\nTime taken: {time_taken}s\")\n"
   ]
  },
  {
   "cell_type": "markdown",
   "metadata": {},
   "source": [
    "---\n",
    "\n",
    "## How to improve it?\n",
    "\n",
    "* **Use Clear and Concise Instructions**: Be specific about the task and desired format.\n",
    "    * Bad Prompt: “Summarize this.”\n",
    "    * Good Prompt: “Summarize this paragraph in one sentence.”\n",
    "* **Add Context**: Providing background can help the model interpret ambiguous prompts better.\n",
    "* **Specify Output Format**: If a particular structure is needed, describe it in the instruction."
   ]
  }
 ],
 "metadata": {
  "kernelspec": {
   "display_name": "Python 3",
   "language": "python",
   "name": "python3"
  },
  "language_info": {
   "codemirror_mode": {
    "name": "ipython",
    "version": 3
   },
   "file_extension": ".py",
   "mimetype": "text/x-python",
   "name": "python",
   "nbconvert_exporter": "python",
   "pygments_lexer": "ipython3",
   "version": "3.13.1"
  }
 },
 "nbformat": 4,
 "nbformat_minor": 2
}
